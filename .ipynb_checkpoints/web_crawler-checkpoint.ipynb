{
 "cells": [
  {
   "cell_type": "code",
   "execution_count": 53,
   "id": "927f40c7",
   "metadata": {},
   "outputs": [
    {
     "name": "stdout",
     "output_type": "stream",
     "text": [
      "https://movies.yahoo.com.tw/movieinfo_main/1\n",
      "[{'名稱': '一世狂野', '分類': '劇情', '上映日期': '2001-10-12', '劇情介紹': '喬治戎格一生都在追求所謂的美國夢，也就是享受美好富裕的生活，但是他卻不願像他父親那樣一輩子都只是個出賣勞力的建築工人。於是他搬到陽光明媚的加州，靠著販賣大麻賺錢，起初，他販毒只是為了享受自由自在的生活，但是當他野心越來越大，他的勢力也日益坐大之際，卻在此時被捕入獄。他在牢裡認識一個能言善道，自稱熟識哥倫比亞販毒集團的牢友狄亞哥，他出獄後果真把當時勢力最大的毒梟艾斯科巴介紹給喬治認識，艾斯科巴計畫將古柯鹼大量引進美國的迪斯可舞廳，希望能引領一股吸毒狂歡的風潮。除了毒品供應商之外，狄亞哥也介紹了一個美艷又狂野的女人瑪莎給喬治，他們瘋狂相愛，之後馬莎還替他生下一個可愛的女兒克莉絲汀娜，也是喬治一生的最愛。喬治很快就靠著販毒發大財，他還得買一棟大房子專門存放每天賺進來的大把鈔票，但是日進斗金卻整天提心吊膽的生活卻讓喬治開始省思，到底他要繼續過著揮霍富裕的生活，還是為了自己心愛的女兒應該轉性投資正當的事業？可是這時聯邦調查局的探員，也開始盯上毒源禍首的喬治……'}]\n"
     ]
    }
   ],
   "source": [
    "import requests\n",
    "from bs4 import BeautifulSoup\n",
    "import pandas as pd\n",
    "\n",
    "infos = []\n",
    "details = []\n",
    "for page in range(1, 2):\n",
    "    url = 'https://movies.yahoo.com.tw/movieinfo_main/%s' % page\n",
    "    print(url)\n",
    "    r = requests.get(url)\n",
    "    soup = BeautifulSoup(r.text)\n",
    "    #-----相關資訊-----#\n",
    "    for d in soup.find_all('div', class_=\"movie_intro_info _c\"):\n",
    "        info = {}\n",
    "        info['名稱'] = d.find('div', class_=\"movie_intro_info_r\").find('h1').text.replace(' ', '').replace('\\n', '')\n",
    "        info['分類'] = d.find('div', class_=\"movie_intro_info_r\").find('a', class_='gabtn').text.strip()\n",
    "        info['上映日期'] = d.find('div', class_='movie_intro_info_r').find('span').text.replace('上映日期：', '')\n",
    "        infos.append(info)\n",
    "    #-----劇情介紹-----#\n",
    "    for d in soup.find_all('div', class_='gray_infobox storeinfo'):\n",
    "        detail = {}\n",
    "        detail['劇情介紹'] = d.find('div', class_=\"gray_infobox_inner\").find('span').text.replace(' ', '').replace('\\n', '').replace('\\r\\xa0', '').replace('\\r', '')\n",
    "        details.append(detail)\n",
    "    #-----以上兩者合併-----#\n",
    "    results = []\n",
    "    for info, detail in zip(infos, details):\n",
    "        results.append(dict(list(info.items()) + list(detail.items())))\n",
    "print(results)\n",
    "\n",
    "df = pd.DataFrame(results)\n",
    "df.to_csv('movies.csv', encoding='utf_8_sig')\n",
    "        "
   ]
  },
  {
   "cell_type": "code",
   "execution_count": null,
   "id": "1e5a8a35",
   "metadata": {},
   "outputs": [],
   "source": []
  }
 ],
 "metadata": {
  "kernelspec": {
   "display_name": "Python 3 (ipykernel)",
   "language": "python",
   "name": "python3"
  },
  "language_info": {
   "codemirror_mode": {
    "name": "ipython",
    "version": 3
   },
   "file_extension": ".py",
   "mimetype": "text/x-python",
   "name": "python",
   "nbconvert_exporter": "python",
   "pygments_lexer": "ipython3",
   "version": "3.9.6"
  }
 },
 "nbformat": 4,
 "nbformat_minor": 5
}

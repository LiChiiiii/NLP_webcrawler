{
 "cells": [
  {
   "cell_type": "code",
   "execution_count": 48,
   "id": "9ea97141",
   "metadata": {},
   "outputs": [
    {
     "name": "stdout",
     "output_type": "stream",
     "text": [
      "https://movies.yahoo.com.tw/movieinfo_main/10493\n",
      "[{'劇情介紹': '今年暑假，影史最賣座的動畫電影系列之一和風靡全球的現象，即將帶來關於一個12歲小男孩的故事，他夢想成為世上最偉大的超級大壞蛋。這部全新動畫喜劇動作片就是《小小兵2：格魯的崛起》。這部電影充滿了照明娛樂招牌的顛覆性和無厘頭喜劇橋段、各種大眾文化的笑梗、感人肺腑的劇情、勁爆的電影配樂，以及宇宙超級無敵誇張的動作場面。《小小兵2：格魯的崛起》一片由這個電影系列的原創掌舵，製片包括照明娛樂極具遠見的創辦人和執行長克里斯梅勒丹德利、他的長期合作夥伴珍娜海莉，以及克里斯雷納德，導演凱爾巴爾達（《神偷奶爸3》、《小小兵》）則再度回歸執導這部電影。共同導演是布萊德艾柏森（長壽喜劇影集《辛普森家庭》）以及強納森戴凡（《寵物當家》系列電影）。'}]\n"
     ]
    }
   ],
   "source": [
    "import requests\n",
    "from bs4 import BeautifulSoup\n",
    "infos = []\n",
    "details = []\n",
    "for page in range(1, 2):\n",
    "    url = 'https://movies.yahoo.com.tw/movieinfo_main/10493' \n",
    "    print(url)\n",
    "    r = requests.get(url)\n",
    "    soup = BeautifulSoup(r.text)\n",
    "    #-----相關資訊-----#\n",
    "    for d in soup.find_all('div', class_=\"movie_intro_info _c\"):\n",
    "        info = {}\n",
    "        info['名稱'] = d.find('div', class_=\"movie_intro_info_r\").find('h1').text.replace(' ', '').replace('\\n', '')\n",
    "        info['分類'] = d.find('div', class_=\"movie_intro_info_r\").find('a', class_='gabtn').text.strip()\n",
    "        info['上映日期'] = d.find('div', class_='movie_intro_info_r').find('span').text.replace('上映日期：', '')\n",
    "        infos.append(info)\n",
    "    #-----劇情介紹-----#\n",
    "    for d in soup.find_all('div', class_='gray_infobox storeinfo'):\n",
    "        detail = {}\n",
    "        detail['劇情介紹'] = d.find('div', class_=\"gray_infobox_inner\").find('span').text.replace(' ', '').replace('\\n', '').replace('\\r\\xa0', '').replace('\\r', '')\n",
    "        details.append(detail)\n",
    "    #-----以上兩者合併-----#\n",
    "    results = []\n",
    "    for info, detail in zip(infos, details):\n",
    "        results.append(dict(list(info.items()) + list(detail.items())))\n",
    "print(results)\n",
    "        "
   ]
  },
  {
   "cell_type": "code",
   "execution_count": null,
   "id": "5ed761d2",
   "metadata": {},
   "outputs": [],
   "source": []
  }
 ],
 "metadata": {
  "kernelspec": {
   "display_name": "Python 3 (ipykernel)",
   "language": "python",
   "name": "python3"
  },
  "language_info": {
   "codemirror_mode": {
    "name": "ipython",
    "version": 3
   },
   "file_extension": ".py",
   "mimetype": "text/x-python",
   "name": "python",
   "nbconvert_exporter": "python",
   "pygments_lexer": "ipython3",
   "version": "3.9.6"
  }
 },
 "nbformat": 4,
 "nbformat_minor": 5
}

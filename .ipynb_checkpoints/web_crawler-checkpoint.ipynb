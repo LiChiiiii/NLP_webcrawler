{
 "cells": [
  {
   "cell_type": "code",
   "execution_count": 29,
   "id": "8c922ad8",
   "metadata": {},
   "outputs": [
    {
     "name": "stdout",
     "output_type": "stream",
     "text": [
      "https://movies.yahoo.com.tw/moviegenre_result.html?genre_id=1\n",
      "[{'名稱': '小小兵2：格魯的崛起', '分類': '動畫', '上映日期': '2022-07-01'}, {'名稱': '蝙蝠俠', '分類': '動作', '上映日期': '2022-03-04'}, {'名稱': '魔比斯', '分類': '動作', '上映日期': '2022-01-16'}, {'名稱': '捍衛戰士：獨行俠', '分類': '動作', '上映日期': '2021-11-19'}, {'名稱': '魔鬼剋星：未來世', '分類': '動作', '上映日期': '2021-11-11'}, {'名稱': '沙丘', '分類': '動作', '上映日期': '2021-10-14'}, {'名稱': '007生死交戰', '分類': '動作', '上映日期': '2021-10-01'}, {'名稱': '疾凍救援', '分類': '動作', '上映日期': '2021-09-24'}, {'名稱': '猛毒2：血蜘蛛', '分類': '動作', '上映日期': '2021-09-16'}, {'名稱': '東京復仇者', '分類': '動作', '上映日期': '2021-09-10'}]\n"
     ]
    }
   ],
   "source": [
    "import requests\n",
    "from bs4 import BeautifulSoup\n",
    "infos = []\n",
    "imgs = []\n",
    "for page in range(1, 2):\n",
    "    url = 'https://movies.yahoo.com.tw/moviegenre_result.html?genre_id=%s' % page\n",
    "    print(url)\n",
    "    r = requests.get(url)\n",
    "    soup = BeautifulSoup(r.text)\n",
    "    for d in soup.find_all('div', class_=\"release_info\"):\n",
    "        details = requests.get(d.find('div', class_='release_movie_name').find('a')['href'])\n",
    "        details = BeautifulSoup(details.text)\n",
    "        for t in details.find_all('div', class_=\"movie_intro_info _c\"):\n",
    "            info = {}\n",
    "            info['名稱'] = t.find('div', class_=\"movie_intro_info_r\").find('h1').text.replace(' ', '').replace('\\n', '')\n",
    "            info['分類'] = t.find('div', class_=\"movie_intro_info_r\").find('a', class_='gabtn').text.strip()\n",
    "            info['上映日期'] = t.find('div', class_='movie_intro_info_r').find('span').text.replace('上映日期：', '')\n",
    "            infos.append(info)\n",
    "print(infos)\n",
    "        "
   ]
  },
  {
   "cell_type": "code",
   "execution_count": null,
   "id": "d4435ba5",
   "metadata": {},
   "outputs": [],
   "source": []
  }
 ],
 "metadata": {
  "kernelspec": {
   "display_name": "Python 3 (ipykernel)",
   "language": "python",
   "name": "python3"
  },
  "language_info": {
   "codemirror_mode": {
    "name": "ipython",
    "version": 3
   },
   "file_extension": ".py",
   "mimetype": "text/x-python",
   "name": "python",
   "nbconvert_exporter": "python",
   "pygments_lexer": "ipython3",
   "version": "3.9.6"
  }
 },
 "nbformat": 4,
 "nbformat_minor": 5
}
